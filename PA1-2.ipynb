{
 "cells": [
  {
   "cell_type": "markdown",
   "metadata": {},
   "source": [
    "# Counting people"
   ]
  },
  {
   "cell_type": "code",
   "execution_count": 91,
   "metadata": {},
   "outputs": [],
   "source": [
    "import numpy as np\n",
    "import scipy as sp\n",
    "import matplotlib.pyplot as pl\n",
    "import cvxopt\n",
    "from cvxopt import matrix\n",
    "from cvxopt import solvers\n",
    "from skimage import data,color\n",
    "\n",
    "count_data_trainx = np.loadtxt('count_data_trainx.txt') \n",
    "count_data_trainy = np.loadtxt('count_data_trainy.txt') \n",
    "count_data_testx = np.loadtxt('count_data_testx.txt') \n",
    "count_data_testy = np.loadtxt('count_data_testy.txt') \n",
    "\n",
    "#5th orders\n",
    "K = 5\n",
    "def PHI(K,data):\n",
    "    phi = []\n",
    "    for i in range(0, K + 1):\n",
    "        phi_inter = data ** i\n",
    "        phi.append(phi_inter)\n",
    "    phi = np.mat(phi)\n",
    "    return phi\n",
    "\n",
    "def plots(ploy_x,ploy_y,predict,label='name'):\n",
    "    pl.plot(ploy_x,predict,'bo',label = label + '-predictions')\n",
    "    pl.plot(ploy_x,ploy_y,'ro',label='true counts')\n",
    "    pl.title(label)\n",
    "    pl.legend() \n",
    "    pl.savefig(label + \"-predictions.jpg\")\n",
    "    pl.close()\n",
    "    return\n",
    "def plots_BR(ploy_x,ploy_y,predict):\n",
    "    pl.plot(ploy_x,predict[0],'bo',label='BR-predictions')\n",
    "    pl.plot(ploy_x,ploy_y,'ro',label='true counts')\n",
    "    #pl.errorbar(ploy_x,ploy_y,np.sqrt(np.diag(predict[1])),label='True function')\n",
    "    pl.title('BR')\n",
    "    pl.legend()\n",
    "    pl.savefig(\"BR-predictions.jpg\")\n",
    "    pl.show()\n",
    "    \n",
    "def MAE(trueoutput, learnedoutput):\n",
    "    trueoutput = trueoutput.reshape(len(trueoutput),1)\n",
    "    learnedoutput = learnedoutput.reshape(len(learnedoutput),1)\n",
    "    return np.sum(np.fabs(trueoutput-learnedoutput))/np.size(trueoutput)\n",
    "    \n",
    "def MSE(trueoutput, learnedoutput):\n",
    "    trueoutput = trueoutput.reshape(len(trueoutput),1)\n",
    "    learnedoutput = learnedoutput.reshape(len(learnedoutput),1)\n",
    "    return np.sum(np.square(trueoutput-learnedoutput))/np.size(trueoutput)"
   ]
  },
  {
   "cell_type": "markdown",
   "metadata": {},
   "source": [
    "# A"
   ]
  },
  {
   "cell_type": "code",
   "execution_count": 65,
   "metadata": {},
   "outputs": [
    {
     "name": "stdout",
     "output_type": "stream",
     "text": [
      "     pcost       dcost       gap    pres   dres\n",
      " 0: -1.7234e+04 -1.7061e+04  6e+02  3e+01  2e-03\n",
      " 1: -1.7143e+04 -1.7208e+04  7e+01  3e-01  1e-05\n",
      " 2: -1.7196e+04 -1.7202e+04  6e+00  2e-02  1e-06\n",
      " 3: -1.7198e+04 -1.7199e+04  8e-01  3e-03  1e-07\n",
      " 4: -1.7198e+04 -1.7198e+04  1e-02  2e-05  8e-10\n",
      " 5: -1.7198e+04 -1.7198e+04  1e-04  2e-07  8e-12\n",
      " 6: -1.7198e+04 -1.7198e+04  1e-06  2e-09  8e-14\n",
      "Optimal solution found.\n",
      "     pcost       dcost       gap    pres   dres   k/t\n",
      " 0:  0.0000e+00 -2.6645e-14  2e+03  6e-01  1e-15  1e+00\n",
      " 1:  1.7856e+02  1.7869e+02  4e+02  1e-01  2e-14  3e-01\n",
      " 2:  3.3102e+02  3.3105e+02  9e+01  2e-02  3e-14  8e-02\n",
      " 3:  3.6933e+02  3.6934e+02  2e+01  6e-03  3e-14  2e-02\n",
      " 4:  3.7769e+02  3.7769e+02  6e+00  2e-03  5e-14  6e-03\n",
      " 5:  3.7998e+02  3.7998e+02  2e+00  4e-04  3e-13  2e-03\n",
      " 6:  3.8069e+02  3.8069e+02  3e-01  8e-05  4e-14  3e-04\n",
      " 7:  3.8080e+02  3.8080e+02  6e-02  2e-05  1e-13  6e-05\n",
      " 8:  3.8083e+02  3.8083e+02  1e-02  3e-06  3e-12  2e-05\n",
      " 9:  3.8083e+02  3.8083e+02  2e-04  6e-08  1e-13  2e-07\n",
      "Optimal solution found.\n",
      "3.10283801413\n",
      "1.35844352115\n",
      "*****************************************************************************\n",
      "2.61873392224\n",
      "1.28243285573\n",
      "*****************************************************************************\n",
      "2.78272407661\n",
      "1.30087511011\n",
      "*****************************************************************************\n",
      "3.11899711896\n",
      "1.36456708215\n",
      "*****************************************************************************\n"
     ]
    },
    {
     "data": {
      "image/png": "[encoded data removed]",
      "text/plain": [
       "<matplotlib.figure.Figure at 0x2a7b2c22470>"
      ]
     },
     "metadata": {},
     "output_type": "display_data"
    },
    {
     "name": "stdout",
     "output_type": "stream",
     "text": [
      "2.91858633883\n",
      "1.32285681406\n"
     ]
    }
   ],
   "source": [
    "count_data_trainx = np.mat(count_data_trainx)\n",
    "ls = poly_LS(count_data_trainx,count_data_trainy)\n",
    "ls_predict = np.transpose(count_data_testx) * ls\n",
    "\n",
    "rls = poly_RLS(count_data_trainx,count_data_trainy,1)\n",
    "rls_predict = np.transpose(count_data_testx) * rls\n",
    "\n",
    "lasso = poly_LASSO(count_data_trainx,count_data_trainy,1)\n",
    "lasso_predict = np.dot(np.transpose(count_data_testx),lasso)\n",
    "\n",
    "rr = poly_RR(count_data_trainx,count_data_trainy)\n",
    "rr_predict = np.dot(np.transpose(count_data_testx),rr)\n",
    "\n",
    "post = posterior(count_data_trainy, count_data_trainx, 0.1, 0.1)\n",
    "br = poly_BR(count_data_testx,post[0],post[1],K)\n",
    "\n",
    "\n",
    "\n",
    "plots(np.arange(np.size(count_data_testy)) + 1,count_data_testy,ls_predict,'LS')\n",
    "print(MSE(count_data_testy,ls_predict))\n",
    "print(MAE(count_data_testy,ls_predict))\n",
    "print('*****************************************************************************')\n",
    "plots(np.arange(np.size(count_data_testy)) + 1,count_data_testy,rls_predict,'RLS')\n",
    "print(MSE(count_data_testy,rls_predict))\n",
    "print(MAE(count_data_testy,rls_predict))\n",
    "print('*****************************************************************************')\n",
    "plots(np.arange(np.size(count_data_testy)) + 1,count_data_testy,lasso_predict,'LASSO')\n",
    "print(MSE(count_data_testy,lasso_predict))\n",
    "print(MAE(count_data_testy,lasso_predict))\n",
    "print('*****************************************************************************')\n",
    "plots(np.arange(np.size(count_data_testy)) + 1,count_data_testy,rr_predict,'RR')\n",
    "print(MSE(count_data_testy,rr_predict))\n",
    "print(MAE(count_data_testy,rr_predict))\n",
    "print('*****************************************************************************')\n",
    "plots_BR(np.arange(np.size(count_data_testy)) + 1,count_data_testy,br)\n",
    "print(MSE(count_data_testy,br[0]))\n",
    "print(MAE(count_data_testy,br[0]))"
   ]
  },
  {
   "cell_type": "markdown",
   "metadata": {},
   "source": [
    "# B feature transformation "
   ]
  },
  {
   "cell_type": "code",
   "execution_count": 92,
   "metadata": {},
   "outputs": [],
   "source": [
    "def PHI1(data):\n",
    "    return np.vstack((data,np.multiply(data,data)))\n",
    "\n",
    "def PHI2(data):\n",
    "    return np.vstack((PHI1(data),np.multiply(np.multiply(data,data),data)))\n",
    "\n",
    "def PHI3(data):\n",
    "    return np.vstack((PHI1(data),np.multiply(data[3,:],data[8,:])))\n",
    "\n",
    "def PHI4(data):\n",
    "    return np.vstack((PHI2(data),np.multiply(data[1,:],data[3,:])))"
   ]
  },
  {
   "cell_type": "code",
   "execution_count": 94,
   "metadata": {},
   "outputs": [
    {
     "name": "stdout",
     "output_type": "stream",
     "text": [
      "     pcost       dcost       gap    pres   dres\n",
      " 0: -1.7292e+04 -1.6994e+04  1e+03  4e+01  2e-03\n",
      " 1: -1.7106e+04 -1.7274e+04  2e+02  1e+00  7e-05\n",
      " 2: -1.7231e+04 -1.7246e+04  2e+01  1e-01  6e-06\n",
      " 3: -1.7238e+04 -1.7240e+04  2e+00  1e-02  7e-07\n",
      " 4: -1.7239e+04 -1.7239e+04  2e-01  1e-03  5e-08\n",
      " 5: -1.7239e+04 -1.7239e+04  7e-03  7e-06  3e-10\n",
      " 6: -1.7239e+04 -1.7239e+04  2e-04  8e-08  4e-12\n",
      "Optimal solution found.\n",
      "     pcost       dcost       gap    pres   dres   k/t\n",
      " 0:  0.0000e+00 -2.6645e-14  2e+03  5e-01  2e-14  1e+00\n",
      " 1:  1.9207e+02  1.9216e+02  3e+02  8e-02  3e-14  3e-01\n",
      " 2:  3.1483e+02  3.1486e+02  8e+01  2e-02  5e-14  7e-02\n",
      " 3:  3.4722e+02  3.4723e+02  2e+01  5e-03  7e-14  2e-02\n",
      " 4:  3.5429e+02  3.5430e+02  6e+00  2e-03  2e-13  6e-03\n",
      " 5:  3.5652e+02  3.5652e+02  2e+00  7e-04  4e-13  3e-03\n",
      " 6:  3.5727e+02  3.5727e+02  1e+00  3e-04  5e-13  1e-03\n",
      " 7:  3.5771e+02  3.5771e+02  2e-01  5e-05  2e-12  2e-04\n",
      " 8:  3.5778e+02  3.5778e+02  6e-02  2e-05  1e-11  7e-05\n",
      " 9:  3.5780e+02  3.5780e+02  2e-02  4e-06  5e-12  2e-05\n",
      "10:  3.5781e+02  3.5781e+02  2e-03  5e-07  5e-12  2e-06\n",
      "11:  3.5781e+02  3.5781e+02  3e-05  8e-09  1e-12  4e-08\n",
      "Optimal solution found.\n",
      "2.92359402673\n",
      "1.32674612411\n",
      "*****************************************************************************\n",
      "2.46777390257\n",
      "1.21369875705\n",
      "*****************************************************************************\n",
      "2.54521420835\n",
      "1.24255315402\n",
      "*****************************************************************************\n",
      "2.89812869234\n",
      "1.30792875918\n",
      "*****************************************************************************\n",
      "2.67235971702\n",
      "1.26836436189\n"
     ]
    }
   ],
   "source": [
    "# PHI1\n",
    "phicount_data_trainx = PHI1(count_data_trainx)\n",
    "phicount_data_testx = (PHI1(count_data_testx)\n",
    "phicount_data_trainx = np.mat(phicount_data_trainx)\n",
    "ls = poly_LS(phicount_data_trainx,count_data_trainy)\n",
    "ls_predict = np.transpose(phicount_data_testx) * ls\n",
    "\n",
    "rls = poly_RLS(phicount_data_trainx,count_data_trainy,1)\n",
    "rls_predict = np.transpose(phicount_data_testx) * rls\n",
    "\n",
    "lasso = poly_LASSO(phicount_data_trainx,count_data_trainy,1)\n",
    "lasso_predict = np.dot(np.transpose(phicount_data_testx),lasso)\n",
    "\n",
    "rr = poly_RR(phicount_data_trainx,count_data_trainy)\n",
    "rr_predict = np.dot(np.transpose(phicount_data_testx),rr)\n",
    "\n",
    "post = posterior(count_data_trainy, phicount_data_trainx, 0.1, 0.1)\n",
    "br = poly_BR(phicount_data_testx,post[0],post[1],K)\n",
    "\n",
    "print(MSE(count_data_testy,ls_predict))\n",
    "print(MAE(count_data_testy,ls_predict))\n",
    "print('*****************************************************************************')\n",
    "print(MSE(count_data_testy,rls_predict))\n",
    "print(MAE(count_data_testy,rls_predict))\n",
    "print('*****************************************************************************')\n",
    "print(MSE(count_data_testy,lasso_predict))\n",
    "print(MAE(count_data_testy,lasso_predict))\n",
    "print('*****************************************************************************')\n",
    "print(MSE(count_data_testy,rr_predict))\n",
    "print(MAE(count_data_testy,rr_predict))\n",
    "print('*****************************************************************************')\n",
    "print(MSE(count_data_testy,br[0]))\n",
    "print(MAE(count_data_testy,br[0]))"
   ]
  },
  {
   "cell_type": "code",
   "execution_count": 95,
   "metadata": {},
   "outputs": [
    {
     "name": "stdout",
     "output_type": "stream",
     "text": [
      "     pcost       dcost       gap    pres   dres\n",
      " 0: -1.7349e+04 -1.6947e+04  2e+03  5e+01  1e-03\n",
      " 1: -1.7070e+04 -1.7344e+04  3e+02  2e+00  6e-05\n",
      " 2: -1.7263e+04 -1.7287e+04  2e+01  2e-01  4e-06\n",
      " 3: -1.7278e+04 -1.7282e+04  4e+00  2e-02  5e-07\n",
      " 4: -1.7280e+04 -1.7280e+04  6e-01  2e-03  6e-08\n",
      " 5: -1.7280e+04 -1.7280e+04  5e-02  1e-04  3e-09\n",
      " 6: -1.7280e+04 -1.7280e+04  1e-03  9e-08  2e-12\n",
      "Optimal solution found.\n",
      "     pcost       dcost       gap    pres   dres   k/t\n",
      " 0:  0.0000e+00 -2.6645e-14  2e+03  4e-01  2e-14  1e+00\n",
      " 1:  1.8285e+02  1.8291e+02  3e+02  7e-02  2e-14  2e-01\n",
      " 2:  2.8445e+02  2.8447e+02  8e+01  2e-02  7e-14  8e-02\n",
      " 3:  3.1139e+02  3.1140e+02  3e+01  8e-03  3e-13  3e-02\n",
      " 4:  3.2184e+02  3.2184e+02  1e+01  3e-03  5e-13  1e-02\n",
      " 5:  3.2472e+02  3.2473e+02  4e+00  1e-03  4e-13  4e-03\n",
      " 6:  3.2574e+02  3.2574e+02  2e+00  5e-04  2e-12  2e-03\n",
      " 7:  3.2649e+02  3.2649e+02  3e-01  9e-05  2e-12  4e-04\n",
      " 8:  3.2659e+02  3.2659e+02  1e-01  3e-05  2e-12  2e-04\n",
      " 9:  3.2664e+02  3.2664e+02  2e-02  6e-06  9e-12  3e-05\n",
      "10:  3.2665e+02  3.2665e+02  4e-03  1e-06  3e-11  4e-06\n",
      "11:  3.2665e+02  3.2665e+02  1e-04  3e-08  1e-11  1e-07\n",
      "Optimal solution found.\n",
      "2.92828806721\n",
      "1.31919905633\n",
      "*****************************************************************************\n",
      "2.56222082747\n",
      "1.27122008282\n",
      "*****************************************************************************\n",
      "2.45975430469\n",
      "1.21855668206\n",
      "*****************************************************************************\n",
      "3.11164627257\n",
      "1.35178432311\n",
      "*****************************************************************************\n",
      "2.62190000306\n",
      "1.25534941918\n"
     ]
    }
   ],
   "source": [
    "# PHI2\n",
    "phicount_data_trainx = PHI2(count_data_trainx)\n",
    "phicount_data_testx = PHI2(count_data_testx)\n",
    "phicount_data_trainx = np.mat(phicount_data_trainx)\n",
    "ls = poly_LS(phicount_data_trainx,count_data_trainy)\n",
    "ls_predict = np.transpose(phicount_data_testx) * ls\n",
    "\n",
    "rls = poly_RLS(phicount_data_trainx,count_data_trainy,1)\n",
    "rls_predict = np.transpose(phicount_data_testx) * rls\n",
    "\n",
    "lasso = poly_LASSO(phicount_data_trainx,count_data_trainy,1)\n",
    "lasso_predict = np.dot(np.transpose(phicount_data_testx),lasso)\n",
    "\n",
    "rr = poly_RR(phicount_data_trainx,count_data_trainy)\n",
    "rr_predict = np.dot(np.transpose(phicount_data_testx),rr)\n",
    "\n",
    "post = posterior(count_data_trainy, phicount_data_trainx, 0.1, 0.1)\n",
    "br = poly_BR(phicount_data_testx,post[0],post[1],K)\n",
    "\n",
    "print(MSE(count_data_testy,ls_predict))\n",
    "print(MAE(count_data_testy,ls_predict))\n",
    "print('*****************************************************************************')\n",
    "print(MSE(count_data_testy,rls_predict))\n",
    "print(MAE(count_data_testy,rls_predict))\n",
    "print('*****************************************************************************')\n",
    "print(MSE(count_data_testy,lasso_predict))\n",
    "print(MAE(count_data_testy,lasso_predict))\n",
    "print('*****************************************************************************')\n",
    "print(MSE(count_data_testy,rr_predict))\n",
    "print(MAE(count_data_testy,rr_predict))\n",
    "print('*****************************************************************************')\n",
    "print(MSE(count_data_testy,br[0]))\n",
    "print(MAE(count_data_testy,br[0]))"
   ]
  },
  {
   "cell_type": "code",
   "execution_count": 96,
   "metadata": {},
   "outputs": [
    {
     "name": "stdout",
     "output_type": "stream",
     "text": [
      "     pcost       dcost       gap    pres   dres\n",
      " 0: -1.7308e+04 -1.6981e+04  2e+03  5e+01  2e-03\n",
      " 1: -1.7108e+04 -1.7302e+04  2e+02  2e+00  1e-04\n",
      " 2: -1.7244e+04 -1.7261e+04  2e+01  1e-01  7e-06\n",
      " 3: -1.7253e+04 -1.7256e+04  3e+00  2e-02  8e-07\n",
      " 4: -1.7254e+04 -1.7254e+04  2e-01  9e-04  5e-08\n",
      " 5: -1.7254e+04 -1.7254e+04  6e-03  1e-15  3e-16\n",
      "Optimal solution found.\n",
      "     pcost       dcost       gap    pres   dres   k/t\n",
      " 0:  0.0000e+00 -2.6645e-14  2e+03  4e-01  2e-14  1e+00\n",
      " 1:  1.8727e+02  1.8734e+02  3e+02  7e-02  3e-14  2e-01\n",
      " 2:  3.0661e+02  3.0663e+02  6e+01  2e-02  5e-14  6e-02\n",
      " 3:  3.2590e+02  3.2591e+02  3e+01  7e-03  1e-13  3e-02\n",
      " 4:  3.3487e+02  3.3488e+02  1e+01  3e-03  1e-13  1e-02\n",
      " 5:  3.3922e+02  3.3922e+02  3e+00  7e-04  9e-14  3e-03\n",
      " 6:  3.4025e+02  3.4025e+02  6e-01  1e-04  1e-13  6e-04\n",
      " 7:  3.4046e+02  3.4046e+02  1e-01  4e-05  6e-13  2e-04\n",
      " 8:  3.4051e+02  3.4051e+02  5e-02  1e-05  2e-12  6e-05\n",
      " 9:  3.4053e+02  3.4053e+02  3e-03  7e-07  3e-12  3e-06\n",
      "10:  3.4053e+02  3.4053e+02  3e-05  8e-09  1e-11  3e-08\n",
      "Optimal solution found.\n",
      "3.52819743615\n",
      "1.45926328254\n",
      "*****************************************************************************\n",
      "2.6086800271\n",
      "1.2467026394\n",
      "*****************************************************************************\n",
      "2.90718598472\n",
      "1.33223194191\n",
      "*****************************************************************************\n",
      "3.72417514981\n",
      "1.49452531193\n",
      "*****************************************************************************\n",
      "3.09654940757\n",
      "1.3715302059\n"
     ]
    }
   ],
   "source": [
    "# PHI3\n",
    "phicount_data_trainx = PHI3(count_data_trainx)\n",
    "phicount_data_testx = PHI3(count_data_testx)\n",
    "phicount_data_trainx = np.mat(phicount_data_trainx)\n",
    "ls = poly_LS(phicount_data_trainx,count_data_trainy)\n",
    "ls_predict = np.transpose(phicount_data_testx) * ls\n",
    "\n",
    "rls = poly_RLS(phicount_data_trainx,count_data_trainy,1)\n",
    "rls_predict = np.transpose(phicount_data_testx) * rls\n",
    "\n",
    "lasso = poly_LASSO(phicount_data_trainx,count_data_trainy,1)\n",
    "lasso_predict = np.dot(np.transpose(phicount_data_testx),lasso)\n",
    "\n",
    "rr = poly_RR(phicount_data_trainx,count_data_trainy)\n",
    "rr_predict = np.dot(np.transpose(phicount_data_testx),rr)\n",
    "\n",
    "post = posterior(count_data_trainy, phicount_data_trainx, 0.1, 0.1)\n",
    "br = poly_BR(phicount_data_testx,post[0],post[1],K)\n",
    "\n",
    "print(MSE(count_data_testy,ls_predict))\n",
    "print(MAE(count_data_testy,ls_predict))\n",
    "print('*****************************************************************************')\n",
    "print(MSE(count_data_testy,rls_predict))\n",
    "print(MAE(count_data_testy,rls_predict))\n",
    "print('*****************************************************************************')\n",
    "print(MSE(count_data_testy,lasso_predict))\n",
    "print(MAE(count_data_testy,lasso_predict))\n",
    "print('*****************************************************************************')\n",
    "print(MSE(count_data_testy,rr_predict))\n",
    "print(MAE(count_data_testy,rr_predict))\n",
    "print('*****************************************************************************')\n",
    "print(MSE(count_data_testy,br[0]))\n",
    "print(MAE(count_data_testy,br[0]))"
   ]
  },
  {
   "cell_type": "code",
   "execution_count": 97,
   "metadata": {},
   "outputs": [
    {
     "name": "stdout",
     "output_type": "stream",
     "text": [
      "     pcost       dcost       gap    pres   dres\n",
      " 0: -1.7358e+04 -1.6936e+04  2e+03  6e+01  1e-03\n",
      " 1: -1.7065e+04 -1.7355e+04  3e+02  3e+00  6e-05\n",
      " 2: -1.7268e+04 -1.7294e+04  3e+01  2e-01  4e-06\n",
      " 3: -1.7283e+04 -1.7287e+04  4e+00  2e-02  5e-07\n",
      " 4: -1.7285e+04 -1.7285e+04  6e-01  2e-03  5e-08\n",
      " 5: -1.7285e+04 -1.7285e+04  4e-02  8e-05  2e-09\n",
      " 6: -1.7285e+04 -1.7285e+04  4e-04  8e-07  2e-11\n",
      " 7: -1.7285e+04 -1.7285e+04  4e-06  8e-09  2e-13\n",
      "Optimal solution found.\n",
      "     pcost       dcost       gap    pres   dres   k/t\n",
      " 0:  0.0000e+00 -2.6645e-14  2e+03  4e-01  2e-14  1e+00\n",
      " 1:  1.7841e+02  1.7847e+02  3e+02  7e-02  6e-14  2e-01\n",
      " 2:  2.8112e+02  2.8114e+02  7e+01  2e-02  1e-13  6e-02\n",
      " 3:  3.0467e+02  3.0468e+02  2e+01  6e-03  2e-13  2e-02\n",
      " 4:  3.1168e+02  3.1169e+02  1e+01  3e-03  3e-13  1e-02\n",
      " 5:  3.1556e+02  3.1556e+02  3e+00  8e-04  2e-13  3e-03\n",
      " 6:  3.1661e+02  3.1661e+02  1e+00  3e-04  1e-12  1e-03\n",
      " 7:  3.1693e+02  3.1693e+02  3e-01  8e-05  1e-12  4e-04\n",
      " 8:  3.1704e+02  3.1704e+02  6e-02  2e-05  7e-12  7e-05\n",
      " 9:  3.1707e+02  3.1707e+02  1e-02  3e-06  2e-12  2e-05\n",
      "10:  3.1707e+02  3.1707e+02  1e-04  4e-08  2e-12  2e-07\n",
      "Optimal solution found.\n",
      "2.93667580548\n",
      "1.30825096659\n",
      "*****************************************************************************\n",
      "2.59260454449\n",
      "1.27969464282\n",
      "*****************************************************************************\n",
      "2.5044546069\n",
      "1.21677854868\n",
      "*****************************************************************************\n",
      "3.08403196585\n",
      "1.33927025141\n",
      "*****************************************************************************\n",
      "2.64658705371\n",
      "1.24905239573\n"
     ]
    }
   ],
   "source": [
    "# PHI4\n",
    "phicount_data_trainx = PHI4(count_data_trainx)\n",
    "phicount_data_testx = PHI4(count_data_testx)\n",
    "phicount_data_trainx = np.mat(phicount_data_trainx)\n",
    "ls = poly_LS(phicount_data_trainx,count_data_trainy)\n",
    "ls_predict = np.transpose(phicount_data_testx) * ls\n",
    "\n",
    "rls = poly_RLS(phicount_data_trainx,count_data_trainy,1)\n",
    "rls_predict = np.transpose(phicount_data_testx) * rls\n",
    "\n",
    "lasso = poly_LASSO(phicount_data_trainx,count_data_trainy,1)\n",
    "lasso_predict = np.dot(np.transpose(phicount_data_testx),lasso)\n",
    "\n",
    "rr = poly_RR(phicount_data_trainx,count_data_trainy)\n",
    "rr_predict = np.dot(np.transpose(phicount_data_testx),rr)\n",
    "\n",
    "post = posterior(count_data_trainy, phicount_data_trainx, 0.1, 0.1)\n",
    "br = poly_BR(phicount_data_testx,post[0],post[1],K)\n",
    "\n",
    "print(MSE(count_data_testy,ls_predict))\n",
    "print(MAE(count_data_testy,ls_predict))\n",
    "print('*****************************************************************************')\n",
    "print(MSE(count_data_testy,rls_predict))\n",
    "print(MAE(count_data_testy,rls_predict))\n",
    "print('*****************************************************************************')\n",
    "print(MSE(count_data_testy,lasso_predict))\n",
    "print(MAE(count_data_testy,lasso_predict))\n",
    "print('*****************************************************************************')\n",
    "print(MSE(count_data_testy,rr_predict))\n",
    "print(MAE(count_data_testy,rr_predict))\n",
    "print('*****************************************************************************')\n",
    "print(MSE(count_data_testy,br[0]))\n",
    "print(MAE(count_data_testy,br[0]))"
   ]
  },
  {
   "cell_type": "markdown",
   "metadata": {},
   "source": [
    "# Least square"
   ]
  },
  {
   "cell_type": "code",
   "execution_count": 20,
   "metadata": {
    "collapsed": true
   },
   "outputs": [],
   "source": [
    "#LS\n",
    "def poly_LS(phi,y):\n",
    "    return (phi * np.transpose(phi)).I * phi * np.transpose(np.mat(y))"
   ]
  },
  {
   "cell_type": "markdown",
   "metadata": {},
   "source": [
    "# Regularized LS"
   ]
  },
  {
   "cell_type": "code",
   "execution_count": 21,
   "metadata": {
    "collapsed": true
   },
   "outputs": [],
   "source": [
    "#RLS\n",
    "def poly_RLS(phi,y,Labmda):\n",
    "    return ((phi * np.transpose(phi) + Labmda * np.eye(np.shape(phi)[0])).I) * phi * np.transpose(np.mat(y))"
   ]
  },
  {
   "cell_type": "markdown",
   "metadata": {},
   "source": [
    "# LASSO"
   ]
  },
  {
   "cell_type": "code",
   "execution_count": 22,
   "metadata": {
    "collapsed": true
   },
   "outputs": [],
   "source": [
    "#LASSO\n",
    "def poly_LASSO(phi,y,Lambda):\n",
    "    phiphiT = phi * np.transpose(phi)\n",
    "    H = np.vstack(((np.hstack((phiphiT,-1 * phiphiT))),\n",
    "              (np.hstack((-1 * phiphiT, phiphiT)))))    \n",
    "    phiy = np.vstack((phi * np.transpose(np.mat(y)),-1 * phi * np.transpose(np.mat(y))))\n",
    "    f = Lambda * np.ones(phiy.shape) - phiy\n",
    "    G = np.eye(len(f))*-1\n",
    "    h = np.zeros(len(f))\n",
    "    sol = solvers.qp(matrix(H),matrix(f),matrix(G),matrix(h))\n",
    "    x = sol['x']\n",
    "    theta = x[:int(len(x)/2)]- x[int(len(x)/2):]\n",
    "    return theta"
   ]
  },
  {
   "cell_type": "markdown",
   "metadata": {},
   "source": [
    "# RR"
   ]
  },
  {
   "cell_type": "code",
   "execution_count": 23,
   "metadata": {
    "collapsed": true
   },
   "outputs": [],
   "source": [
    "#RR\n",
    "def poly_RR(phi,y):\n",
    "    A = np.vstack(((np.hstack((-1 * np.transpose(phi),-1*np.eye(np.shape(np.transpose(phi))[0])))),\n",
    "              (np.hstack((np.transpose(phi), -1*np.eye(np.shape(np.transpose(phi))[0]))))))  \n",
    "    b = np.hstack((-y,y))\n",
    "    f = np.hstack((np.zeros(np.shape(np.transpose(phi))[1]),np.ones(np.shape(np.transpose(phi))[0])))\n",
    "    sol = solvers.lp(matrix(f),matrix(A),matrix(b))\n",
    "    theta = np.array(sol['x'][:np.shape(np.transpose(phi))[1]])   \n",
    "    return theta"
   ]
  },
  {
   "cell_type": "markdown",
   "metadata": {},
   "source": [
    "# Bayesian regression"
   ]
  },
  {
   "cell_type": "code",
   "execution_count": 34,
   "metadata": {
    "collapsed": true
   },
   "outputs": [],
   "source": [
    "#Bayesian regression\n",
    "def posterior(y,phi,alpha,sigma):\n",
    "    thelta_cov = (1/alpha * np.eye(np.shape(phi)[0]) + 1/(sigma ** 2) * phi * np.transpose(phi)).I\n",
    "    thelta_mean = 1/(sigma ** 2) * thelta_cov * phi * np.transpose(np.mat(y))\n",
    "    return thelta_mean,thelta_cov\n",
    "def poly_BR(x,thelta_mean,thelta_cov,K):\n",
    "    thelta_mean_star = np.transpose(x) * thelta_mean\n",
    "    thelta_cov_star = np.transpose(x) * thelta_cov * thelta_cov * x\n",
    "    return thelta_mean_star,thelta_cov_star"
   ]
  }
 ],
 "metadata": {
  "kernelspec": {
   "display_name": "Python 3",
   "language": "python",
   "name": "python3"
  },
  "language_info": {
   "codemirror_mode": {
    "name": "ipython",
    "version": 3
   },
   "file_extension": ".py",
   "mimetype": "text/x-python",
   "name": "python",
   "nbconvert_exporter": "python",
   "pygments_lexer": "ipython3",
   "version": "3.6.2"
  }
 },
 "nbformat": 4,
 "nbformat_minor": 2
}
