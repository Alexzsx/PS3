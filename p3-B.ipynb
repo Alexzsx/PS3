{
 "cells": [
  {
   "cell_type": "markdown",
   "metadata": {},
   "source": [
    "# Least square"
   ]
  },
  {
   "cell_type": "code",
   "execution_count": 2,
   "metadata": {
    "collapsed": true
   },
   "outputs": [],
   "source": [
    "import numpy as np\n",
    "import scipy as sp\n",
    "import matplotlib.pyplot as pl\n",
    "import cvxopt\n",
    "from cvxopt import matrix\n",
    "from cvxopt import solvers\n",
    "\n",
    "sampx = np.loadtxt('polydata_data_sampx.txt') \n",
    "sampy = np.loadtxt('polydata_data_sampy.txt')\n",
    "polyx = np.loadtxt('polydata_data_polyx.txt') \n",
    "polyy = np.loadtxt('polydata_data_polyy.txt')\n",
    "\n",
    "#5th orders\n",
    "K = 5\n",
    "def PHI(K,data):\n",
    "    phi = []\n",
    "    for i in range(0, K + 1):\n",
    "        phi_inter = data ** i\n",
    "        phi.append(phi_inter)\n",
    "    phi = np.mat(phi)\n",
    "    return phi\n",
    "phisamp = PHI(K,sampx)\n",
    "phiploy = PHI(K,polyx)\n",
    "\n",
    "def plots(samp_x,samp_y,ploy_x,ploy_y,predict,label='name'):\n",
    "    pl.plot(samp_x,samp_y,'bo',label='samples')\n",
    "    pl.plot(ploy_x,predict,label=label)\n",
    "    pl.plot(ploy_x,ploy_y,label='True function')\n",
    "    pl.title(label)\n",
    "    pl.legend() \n",
    "    pl.savefig(label+\"1.jpg\")\n",
    "    pl.close()\n",
    "    return\n",
    "def plots_BR(samp_x,samp_y,ploy_x,ploy_y,predict):\n",
    "    pl.plot(samp_x,samp_y,'bo',label='samples')\n",
    "    pl.plot(ploy_x,predict[0],label='function')\n",
    "    pl.errorbar(ploy_x,ploy_y,np.sqrt(np.diag(predict[1])),label='True function')\n",
    "    pl.title('BR')\n",
    "    pl.legend()\n",
    "    pl.savefig(\"BR1.jpg\")\n",
    "    pl.show()\n",
    "\n",
    "def MSE(trueoutput, learnedoutput):\n",
    "    trueoutput = trueoutput.reshape(len(trueoutput),1)\n",
    "    learnedoutput = learnedoutput.reshape(len(learnedoutput),1)\n",
    "    return np.sum(np.square(trueoutput-learnedoutput))/np.size(trueoutput)"
   ]
  },
  {
   "cell_type": "code",
   "execution_count": null,
   "metadata": {
    "collapsed": true
   },
   "outputs": [],
   "source": []
  },
  {
   "cell_type": "markdown",
   "metadata": {},
   "source": [
    "# Least square"
   ]
  },
  {
   "cell_type": "code",
   "execution_count": 9,
   "metadata": {},
   "outputs": [
    {
     "name": "stdout",
     "output_type": "stream",
     "text": [
      "Estimated parameters:  [[  6.15769274e-01]\n",
      " [  1.10406633e+00]\n",
      " [  1.33022515e+00]\n",
      " [ -6.93228415e-01]\n",
      " [  9.17835000e-04]\n",
      " [ -6.86117508e-01]]\n"
     ]
    },
    {
     "data": {
      "text/plain": [
       "0.40864388356985265"
      ]
     },
     "execution_count": 9,
     "metadata": {},
     "output_type": "execute_result"
    }
   ],
   "source": [
    "#LS\n",
    "def poly_LS(phi,y):\n",
    "    return (phi * np.transpose(phi)).I * phi * np.transpose(np.mat(y))\n",
    "ls = poly_LS(phisamp,sampy)\n",
    "print('Estimated parameters: ',ls)\n",
    "predict = np.transpose(PHI(K,polyx)) * ls\n",
    "plots(sampx,sampy,polyx,polyy,predict,'LS')\n",
    "MSE(polyy,predict)"
   ]
  },
  {
   "cell_type": "markdown",
   "metadata": {},
   "source": [
    "# Regularized LS"
   ]
  },
  {
   "cell_type": "code",
   "execution_count": 10,
   "metadata": {},
   "outputs": [
    {
     "name": "stdout",
     "output_type": "stream",
     "text": [
      "Estimated parameters:  [[ 0.68185088]\n",
      " [ 0.8032859 ]\n",
      " [ 1.17035187]\n",
      " [-0.43660814]\n",
      " [ 0.04726588]\n",
      " [-0.73411837]]\n"
     ]
    },
    {
     "data": {
      "text/plain": [
       "0.4086325708836992"
      ]
     },
     "execution_count": 10,
     "metadata": {},
     "output_type": "execute_result"
    }
   ],
   "source": [
    "#RLS\n",
    "def poly_RLS(phi,y,Labmda):\n",
    "    return ((phi * np.transpose(phi) + Labmda * np.eye(np.shape(phi)[0])).I) * phi * np.transpose(np.mat(y))\n",
    "rls = poly_RLS(phisamp,sampy,1)\n",
    "print('Estimated parameters: ',rls)\n",
    "predict = np.transpose(PHI(K,polyx)) * rls\n",
    "plots(sampx,sampy,polyx,polyy,predict,'RLS')\n",
    "MSE(polyy,predict)"
   ]
  },
  {
   "cell_type": "markdown",
   "metadata": {},
   "source": [
    "# LASSO"
   ]
  },
  {
   "cell_type": "code",
   "execution_count": 11,
   "metadata": {},
   "outputs": [
    {
     "name": "stdout",
     "output_type": "stream",
     "text": [
      "     pcost       dcost       gap    pres   dres\n",
      " 0: -1.0534e+03 -1.0396e+03  2e+01  9e+00  3e-16\n",
      " 1: -1.0398e+03 -1.0385e+03  2e+00  8e-01  2e-16\n",
      " 2: -1.0376e+03 -1.0376e+03  1e-01  4e-02  2e-16\n",
      " 3: -1.0375e+03 -1.0375e+03  6e-03  3e-16  7e-17\n",
      " 4: -1.0375e+03 -1.0375e+03  3e-04  3e-16  1e-16\n",
      "Optimal solution found.\n",
      "Estimated parameters:  [ 6.26e-01]\n",
      "[ 5.91e-01]\n",
      "[ 1.31e+00]\n",
      "[-1.89e-01]\n",
      "[ 6.55e-04]\n",
      "[-7.92e-01]\n",
      "\n"
     ]
    },
    {
     "data": {
      "text/plain": [
       "0.47460685881917192"
      ]
     },
     "execution_count": 11,
     "metadata": {},
     "output_type": "execute_result"
    }
   ],
   "source": [
    "#LASSO\n",
    "def poly_LASSO(phi,y,Lambda):\n",
    "    phiphiT = phi * np.transpose(phi)\n",
    "    H = np.vstack(((np.hstack((phiphiT,-1 * phiphiT))),\n",
    "              (np.hstack((-1 * phiphiT, phiphiT)))))    \n",
    "    phiy = np.vstack((phi * np.transpose(np.mat(y)),-1 * phi * np.transpose(np.mat(y))))\n",
    "    f = Lambda * np.ones(phiy.shape) - phiy\n",
    "    G = np.eye(len(f))*-1\n",
    "    h = np.zeros(len(f))\n",
    "    sol = solvers.qp(matrix(H),matrix(f),matrix(G),matrix(h))\n",
    "    x = sol['x']\n",
    "    theta = x[:int(len(x)/2)]- x[int(len(x)/2):]\n",
    "    return theta\n",
    "lasso = poly_LASSO(phisamp,sampy,1)\n",
    "print('Estimated parameters: ',lasso)\n",
    "predict = np.dot(np.transpose(PHI(K,polyx)),lasso)\n",
    "plots(sampx,sampy,polyx,polyy,predict,'LASSO')\n",
    "MSE(polyy,predict)"
   ]
  },
  {
   "cell_type": "markdown",
   "metadata": {},
   "source": [
    "# RR"
   ]
  },
  {
   "cell_type": "code",
   "execution_count": 12,
   "metadata": {},
   "outputs": [
    {
     "name": "stdout",
     "output_type": "stream",
     "text": [
      "     pcost       dcost       gap    pres   dres   k/t\n",
      " 0:  0.0000e+00 -3.5527e-15  3e+02  9e-01  2e-15  1e+00\n",
      " 1:  3.9223e+01  3.9399e+01  6e+01  2e-01  4e-15  4e-01\n",
      " 2:  5.8134e+01  5.8186e+01  1e+01  4e-02  3e-14  1e-01\n",
      " 3:  6.3314e+01  6.3326e+01  2e+00  7e-03  4e-14  2e-02\n",
      " 4:  6.4289e+01  6.4291e+01  4e-01  1e-03  7e-14  3e-03\n",
      " 5:  6.4452e+01  6.4452e+01  7e-02  2e-04  7e-14  6e-04\n",
      " 6:  6.4483e+01  6.4483e+01  3e-03  8e-06  1e-13  2e-05\n",
      " 7:  6.4484e+01  6.4484e+01  3e-05  8e-08  6e-14  2e-07\n",
      "Optimal solution found.\n",
      "Estimated parameters:  [[ 1.01563532]\n",
      " [ 1.86713473]\n",
      " [ 0.26492436]\n",
      " [-1.70405034]\n",
      " [ 0.34503254]\n",
      " [-0.40769652]]\n"
     ]
    },
    {
     "data": {
      "text/plain": [
       "0.76804615051335501"
      ]
     },
     "execution_count": 12,
     "metadata": {},
     "output_type": "execute_result"
    }
   ],
   "source": [
    "#RR\n",
    "def poly_RR(phi,y):\n",
    "    A = np.vstack(((np.hstack((-1 * np.transpose(phi),-1*np.eye(np.shape(np.transpose(phisamp))[0])))),\n",
    "              (np.hstack((np.transpose(phi), -1*np.eye(np.shape(np.transpose(phisamp))[0]))))))  \n",
    "    b = np.hstack((-y,y))\n",
    "    f = np.hstack((np.zeros(np.shape(np.transpose(phisamp))[1]),np.ones(np.shape(np.transpose(phisamp))[0])))\n",
    "    sol = solvers.lp(matrix(f),matrix(A),matrix(b))\n",
    "    theta = np.array(sol['x'][:np.shape(np.transpose(phisamp))[1]])   \n",
    "    return theta\n",
    "rr = poly_RR(phisamp,sampy)\n",
    "print('Estimated parameters: ',rr)\n",
    "predict = np.dot(np.transpose(PHI(K,polyx)),rr)\n",
    "plots(sampx,sampy,polyx,polyy,predict,'RR')\n",
    "MSE(polyy,predict)"
   ]
  },
  {
   "cell_type": "markdown",
   "metadata": {},
   "source": [
    "# Bayesian regression"
   ]
  },
  {
   "cell_type": "code",
   "execution_count": 13,
   "metadata": {},
   "outputs": [
    {
     "name": "stdout",
     "output_type": "stream",
     "text": [
      "Estimated parameters:  [[ 31.28034953]\n",
      " [ 28.6412853 ]\n",
      " [ 26.19000582]\n",
      " [ 23.91590465]\n",
      " [ 21.80880162]\n",
      " [ 19.85893382]\n",
      " [ 18.05694668]\n",
      " [ 16.39388496]\n",
      " [ 14.86118383]\n",
      " [ 13.45065986]\n",
      " [ 12.15450208]\n",
      " [ 10.96526301]\n",
      " [  9.8758497 ]\n",
      " [  8.87951475]\n",
      " [  7.96984735]\n",
      " [  7.14076433]\n",
      " [  6.38650115]\n",
      " [  5.701603  ]\n",
      " [  5.08091577]\n",
      " [  4.51957714]\n",
      " [  4.01300756]\n",
      " [  3.55690134]\n",
      " [  3.14721763]\n",
      " [  2.78017149]\n",
      " [  2.45222493]\n",
      " [  2.1600779 ]\n",
      " [  1.90065937]\n",
      " [  1.67111836]\n",
      " [  1.46881493]\n",
      " [  1.29131127]\n",
      " [  1.13636271]\n",
      " [  1.00190874]\n",
      " [  0.88606406]\n",
      " [  0.78710964]\n",
      " [  0.7034837 ]\n",
      " [  0.63377278]\n",
      " [  0.57670276]\n",
      " [  0.5311299 ]\n",
      " [  0.4960319 ]\n",
      " [  0.47049888]\n",
      " [  0.45372445]\n",
      " [  0.44499674]\n",
      " [  0.44368944]\n",
      " [  0.44925281]\n",
      " [  0.46120474]\n",
      " [  0.47912178]\n",
      " [  0.50263014]\n",
      " [  0.5313968 ]\n",
      " [  0.56512047]\n",
      " [  0.60352264]\n",
      " [  0.64633864]\n",
      " [  0.69330868]\n",
      " [  0.74416882]\n",
      " [  0.7986421 ]\n",
      " [  0.85642948]\n",
      " [  0.91720094]\n",
      " [  0.98058648]\n",
      " [  1.04616719]\n",
      " [  1.11346622]\n",
      " [  1.1819399 ]\n",
      " [  1.25096869]\n",
      " [  1.31984828]\n",
      " [  1.38778058]\n",
      " [  1.45386478]\n",
      " [  1.51708838]\n",
      " [  1.57631821]\n",
      " [  1.63029148]\n",
      " [  1.67760682]\n",
      " [  1.71671528]\n",
      " [  1.7459114 ]\n",
      " [  1.76332424]\n",
      " [  1.76690839]\n",
      " [  1.75443503]\n",
      " [  1.72348295]\n",
      " [  1.6714296 ]\n",
      " [  1.5954421 ]\n",
      " [  1.49246829]\n",
      " [  1.35922776]\n",
      " [  1.1922029 ]\n",
      " [  0.98762991]\n",
      " [  0.74148984]\n",
      " [  0.44949963]\n",
      " [  0.10710315]\n",
      " [ -0.29053777]\n",
      " [ -0.74855231]\n",
      " [ -1.27236964]\n",
      " [ -1.86772785]\n",
      " [ -2.54068294]\n",
      " [ -3.29761779]\n",
      " [ -4.1452511 ]\n",
      " [ -5.09064639]\n",
      " [ -6.14122095]\n",
      " [ -7.30475478]\n",
      " [ -8.58939959]\n",
      " [-10.00368778]\n",
      " [-11.55654134]\n",
      " [-13.2572809 ]\n",
      " [-15.11563461]\n",
      " [-17.14174717]\n",
      " [-19.34618878]]\n"
     ]
    },
    {
     "data": {
      "image/png": "[encoded data removed]",
      "text/plain": [
       "<matplotlib.figure.Figure at 0x2286310f518>"
      ]
     },
     "metadata": {},
     "output_type": "display_data"
    },
    {
     "data": {
      "text/plain": [
       "0.40823651820263246"
      ]
     },
     "execution_count": 13,
     "metadata": {},
     "output_type": "execute_result"
    }
   ],
   "source": [
    "#Bayesian regression\n",
    "def posterior(y,phi,alpha,sigma):\n",
    "    thelta_cov = (1/alpha * np.eye(np.shape(phi)[0]) + 1/(sigma ** 2) * phi * np.transpose(phi)).I\n",
    "    thelta_mean = 1/(sigma ** 2) * thelta_cov * phi * np.transpose(np.mat(y))\n",
    "    return thelta_mean,thelta_cov\n",
    "def poly_BR(x,thelta_mean,thelta_cov,K):\n",
    "    thelta_mean_star = np.transpose(PHI(K,x)) * thelta_mean\n",
    "    thelta_cov_star = np.transpose(PHI(K,x)) * thelta_cov * thelta_cov * PHI(K,x)\n",
    "    return thelta_mean_star,thelta_cov_star\n",
    "post = posterior(sampy, phisamp, 0.1, 0.1)\n",
    "br = poly_BR(polyx,post[0],post[1],K)\n",
    "print('Estimated parameters: ',br[0])\n",
    "plots_BR(sampx,sampy,polyx,polyy,br)\n",
    "MSE(polyy,br[0])"
   ]
  },
  {
   "cell_type": "code",
   "execution_count": 16,
   "metadata": {},
   "outputs": [
    {
     "data": {
      "text/plain": [
       "0.45000000000000007"
      ]
     },
     "execution_count": 16,
     "metadata": {},
     "output_type": "execute_result"
    }
   ],
   "source": [
    "# Experiment with hyperparameters\n",
    "Lambda = np.linspace(0.1,5,15)\n",
    "mse_rls = []\n",
    "for i in range(0,len(Lambda)):\n",
    "    rls = poly_RLS(phisamp,sampy,Lambda[i])   \n",
    "    predict = np.transpose(PHI(K,polyx)) * rls    \n",
    "    mse_rls.append(MSE(polyy,predict))\n",
    "Lambda[mse_rls.index(min(mse_rls))]"
   ]
  },
  {
   "cell_type": "code",
   "execution_count": 116,
   "metadata": {},
   "outputs": [
    {
     "name": "stdout",
     "output_type": "stream",
     "text": [
      "     pcost       dcost       gap    pres   dres\n",
      " 0: -1.0415e+03 -1.0378e+03  3e+01  6e+00  2e-03\n",
      " 1: -1.0397e+03 -1.0412e+03  2e+00  1e-15  1e-16\n",
      " 2: -1.0410e+03 -1.0411e+03  1e-01  5e-16  2e-16\n",
      " 3: -1.0411e+03 -1.0411e+03  3e-03  3e-16  2e-16\n",
      " 4: -1.0411e+03 -1.0411e+03  2e-04  4e-16  1e-16\n",
      "Optimal solution found.\n",
      "     pcost       dcost       gap    pres   dres\n",
      " 0: -1.0438e+03 -1.0333e+03  3e+01  7e+00  1e-03\n",
      " 1: -1.0363e+03 -1.0404e+03  4e+00  8e-16  4e-16\n",
      " 2: -1.0395e+03 -1.0398e+03  4e-01  5e-16  2e-16\n",
      " 3: -1.0396e+03 -1.0396e+03  2e-02  3e-16  5e-16\n",
      " 4: -1.0396e+03 -1.0396e+03  7e-04  2e-16  2e-16\n",
      "Optimal solution found.\n",
      "     pcost       dcost       gap    pres   dres\n",
      " 0: -1.0491e+03 -1.0396e+03  1e+01  8e+00  1e-16\n",
      " 1: -1.0396e+03 -1.0389e+03  1e+00  7e-01  2e-16\n",
      " 2: -1.0383e+03 -1.0383e+03  7e-02  3e-02  4e-16\n",
      " 3: -1.0382e+03 -1.0382e+03  3e-03  2e-16  5e-16\n",
      " 4: -1.0382e+03 -1.0382e+03  2e-04  2e-16  1e-16\n",
      "Optimal solution found.\n",
      "     pcost       dcost       gap    pres   dres\n",
      " 0: -1.0573e+03 -1.0396e+03  2e+01  1e+01  1e-16\n",
      " 1: -1.0400e+03 -1.0383e+03  2e+00  1e+00  2e-16\n",
      " 2: -1.0371e+03 -1.0371e+03  2e-01  5e-02  2e-16\n",
      " 3: -1.0370e+03 -1.0370e+03  1e-02  3e-16  1e-16\n",
      " 4: -1.0370e+03 -1.0370e+03  5e-04  3e-16  3e-16\n",
      "Optimal solution found.\n",
      "     pcost       dcost       gap    pres   dres\n",
      " 0: -1.0684e+03 -1.0396e+03  3e+01  1e+01  4e-16\n",
      " 1: -1.0407e+03 -1.0377e+03  3e+00  1e+00  6e-16\n",
      " 2: -1.0361e+03 -1.0360e+03  3e-01  7e-02  8e-17\n",
      " 3: -1.0359e+03 -1.0359e+03  2e-02  5e-16  4e-16\n",
      " 4: -1.0359e+03 -1.0359e+03  1e-03  5e-16  3e-16\n",
      " 5: -1.0359e+03 -1.0359e+03  7e-05  3e-16  7e-17\n",
      "Optimal solution found.\n",
      "     pcost       dcost       gap    pres   dres\n",
      " 0: -1.0825e+03 -1.0396e+03  3e+01  1e+01  3e-16\n",
      " 1: -1.0418e+03 -1.0372e+03  4e+00  1e+00  2e-16\n",
      " 2: -1.0352e+03 -1.0350e+03  4e-01  9e-02  3e-16\n",
      " 3: -1.0348e+03 -1.0348e+03  2e-02  3e-04  2e-16\n",
      " 4: -1.0348e+03 -1.0348e+03  1e-03  5e-06  2e-16\n",
      " 5: -1.0348e+03 -1.0348e+03  9e-05  2e-08  1e-16\n",
      "Optimal solution found.\n",
      "     pcost       dcost       gap    pres   dres\n",
      " 0: -1.0995e+03 -1.0396e+03  4e+01  1e+01  3e-16\n",
      " 1: -1.0435e+03 -1.0367e+03  5e+00  2e+00  3e-16\n",
      " 2: -1.0344e+03 -1.0340e+03  6e-01  1e-01  1e-16\n",
      " 3: -1.0337e+03 -1.0337e+03  5e-02  6e-03  1e-16\n",
      " 4: -1.0337e+03 -1.0337e+03  2e-03  9e-05  2e-16\n",
      " 5: -1.0337e+03 -1.0337e+03  3e-05  9e-07  9e-17\n",
      " 6: -1.0337e+03 -1.0337e+03  3e-07  9e-09  1e-16\n",
      "Optimal solution found.\n",
      "     pcost       dcost       gap    pres   dres\n",
      " 0: -1.1194e+03 -1.0396e+03  5e+01  1e+01  3e-16\n",
      " 1: -1.0455e+03 -1.0362e+03  6e+00  2e+00  4e-16\n",
      " 2: -1.0337e+03 -1.0331e+03  8e-01  2e-01  1e-16\n",
      " 3: -1.0327e+03 -1.0327e+03  5e-02  6e-03  1e-16\n",
      " 4: -1.0326e+03 -1.0326e+03  2e-03  9e-05  6e-17\n",
      " 5: -1.0326e+03 -1.0326e+03  2e-05  9e-07  1e-16\n",
      " 6: -1.0326e+03 -1.0326e+03  2e-07  9e-09  7e-17\n",
      "Optimal solution found.\n",
      "     pcost       dcost       gap    pres   dres\n",
      " 0: -1.1423e+03 -1.0396e+03  5e+01  2e+01  5e-16\n",
      " 1: -1.0480e+03 -1.0357e+03  8e+00  2e+00  6e-16\n",
      " 2: -1.0331e+03 -1.0321e+03  9e-01  2e-01  2e-16\n",
      " 3: -1.0316e+03 -1.0316e+03  5e-02  5e-03  1e-16\n",
      " 4: -1.0316e+03 -1.0316e+03  1e-03  6e-05  2e-16\n",
      " 5: -1.0316e+03 -1.0316e+03  1e-05  6e-07  5e-17\n",
      " 6: -1.0316e+03 -1.0316e+03  1e-07  6e-09  1e-16\n",
      "Optimal solution found.\n",
      "     pcost       dcost       gap    pres   dres\n",
      " 0: -1.1682e+03 -1.0396e+03  6e+01  2e+01  5e-16\n",
      " 1: -1.0509e+03 -1.0353e+03  9e+00  2e+00  3e-16\n",
      " 2: -1.0325e+03 -1.0312e+03  1e+00  2e-01  2e-16\n",
      " 3: -1.0306e+03 -1.0306e+03  5e-02  3e-03  1e-16\n",
      " 4: -1.0305e+03 -1.0305e+03  9e-04  4e-05  8e-17\n",
      " 5: -1.0305e+03 -1.0305e+03  9e-06  4e-07  3e-16\n",
      " 6: -1.0305e+03 -1.0305e+03  9e-08  4e-09  1e-16\n",
      "Optimal solution found.\n",
      "     pcost       dcost       gap    pres   dres\n",
      " 0: -1.1969e+03 -1.0396e+03  7e+01  2e+01  7e-16\n",
      " 1: -1.0543e+03 -1.0348e+03  1e+01  2e+00  9e-16\n",
      " 2: -1.0321e+03 -1.0303e+03  1e+00  2e-01  2e-16\n",
      " 3: -1.0295e+03 -1.0296e+03  5e-02  2e-03  2e-16\n",
      " 4: -1.0295e+03 -1.0295e+03  7e-04  2e-05  3e-16\n",
      " 5: -1.0295e+03 -1.0295e+03  7e-06  2e-07  2e-16\n",
      " 6: -1.0295e+03 -1.0295e+03  7e-08  2e-09  1e-16\n",
      "Optimal solution found.\n",
      "     pcost       dcost       gap    pres   dres\n",
      " 0: -1.2286e+03 -1.0396e+03  8e+01  2e+01  6e-16\n",
      " 1: -1.0581e+03 -1.0344e+03  1e+01  3e+00  6e-16\n",
      " 2: -1.0317e+03 -1.0295e+03  1e+00  3e-01  1e-16\n",
      " 3: -1.0285e+03 -1.0286e+03  6e-02  2e-03  9e-17\n",
      " 4: -1.0285e+03 -1.0285e+03  7e-04  2e-05  9e-17\n",
      " 5: -1.0285e+03 -1.0285e+03  7e-06  2e-07  8e-17\n",
      " 6: -1.0285e+03 -1.0285e+03  7e-08  2e-09  7e-17\n",
      "Optimal solution found.\n",
      "     pcost       dcost       gap    pres   dres\n",
      " 0: -1.2633e+03 -1.0396e+03  8e+01  2e+01  1e-15\n",
      " 1: -1.0624e+03 -1.0340e+03  1e+01  3e+00  9e-16\n",
      " 2: -1.0314e+03 -1.0286e+03  2e+00  3e-01  2e-16\n",
      " 3: -1.0275e+03 -1.0276e+03  7e-02  2e-03  1e-16\n",
      " 4: -1.0275e+03 -1.0275e+03  8e-04  3e-05  2e-16\n",
      " 5: -1.0275e+03 -1.0275e+03  8e-06  3e-07  1e-16\n",
      " 6: -1.0275e+03 -1.0275e+03  8e-08  3e-09  2e-16\n",
      "Optimal solution found.\n",
      "     pcost       dcost       gap    pres   dres\n",
      " 0: -1.3009e+03 -1.0396e+03  9e+01  2e+01  1e-15\n",
      " 1: -1.0671e+03 -1.0336e+03  1e+01  3e+00  8e-16\n",
      " 2: -1.0312e+03 -1.0277e+03  2e+00  3e-01  1e-16\n",
      " 3: -1.0266e+03 -1.0266e+03  8e-02  3e-03  1e-16\n",
      " 4: -1.0266e+03 -1.0266e+03  8e-04  3e-05  2e-16\n",
      " 5: -1.0266e+03 -1.0266e+03  8e-06  3e-07  3e-16\n",
      " 6: -1.0266e+03 -1.0266e+03  8e-08  3e-09  2e-16\n",
      "Optimal solution found.\n",
      "     pcost       dcost       gap    pres   dres\n",
      " 0: -1.3414e+03 -1.0396e+03  1e+02  2e+01  8e-16\n",
      " 1: -1.0722e+03 -1.0332e+03  1e+01  3e+00  6e-16\n",
      " 2: -1.0310e+03 -1.0269e+03  2e+00  4e-01  2e-16\n",
      " 3: -1.0256e+03 -1.0257e+03  9e-02  4e-03  1e-16\n",
      " 4: -1.0256e+03 -1.0256e+03  1e-03  4e-05  1e-16\n",
      " 5: -1.0256e+03 -1.0256e+03  1e-05  4e-07  3e-16\n",
      " 6: -1.0256e+03 -1.0256e+03  1e-07  4e-09  2e-16\n",
      "Optimal solution found.\n"
     ]
    },
    {
     "data": {
      "text/plain": [
       "0.40864388356985265"
      ]
     },
     "execution_count": 116,
     "metadata": {},
     "output_type": "execute_result"
    }
   ],
   "source": [
    "mse_lasso = []\n",
    "for i in range(0,len(Lambda)):\n",
    "    lasso = poly_LASSO(phisamp,sampy,Lambda[i])\n",
    "    np.dot(np.transpose(PHI(K,polyx)),lasso)    \n",
    "    mse_lasso.append(MSE(polyy,predict))\n",
    "mse_lasso[mse_rls.index(min(mse_rls))]"
   ]
  },
  {
   "cell_type": "code",
   "execution_count": 63,
   "metadata": {},
   "outputs": [
    {
     "name": "stdout",
     "output_type": "stream",
     "text": [
      "[ 2.  8.]\n",
      "[ 1.  4.]\n"
     ]
    }
   ],
   "source": [
    "mu = np.linspace(1,10,10)\n",
    "ceta = np.linspace(1,5,5)\n",
    "mse_br = np.zeros((10,5))\n",
    "for i in range(0,len(mu)):\n",
    "    for j in range(0,len(ceta)):\n",
    "        post = posterior(sampy, phisamp, mu[i], ceta[j])\n",
    "        br = poly_BR(polyx,post[0],post[1],K)   \n",
    "        mse_br[i,j] = (MSE(polyy,br[0]))\n",
    "re = np.where(mse_br == np.min(mse_br))\n",
    "print(mu[re[0]])\n",
    "print(np.square(ceta[re[1]]))        "
   ]
  },
  {
   "cell_type": "code",
   "execution_count": 62,
   "metadata": {
    "scrolled": true
   },
   "outputs": [
    {
     "data": {
      "text/plain": [
       "array([ 1.,  4.])"
      ]
     },
     "execution_count": 62,
     "metadata": {},
     "output_type": "execute_result"
    }
   ],
   "source": []
  },
  {
   "cell_type": "code",
   "execution_count": 58,
   "metadata": {},
   "outputs": [
    {
     "data": {
      "text/plain": [
       "(array([1, 7], dtype=int64), array([0, 1], dtype=int64))"
      ]
     },
     "execution_count": 58,
     "metadata": {},
     "output_type": "execute_result"
    }
   ],
   "source": [
    "np.square"
   ]
  }
 ],
 "metadata": {
  "kernelspec": {
   "display_name": "Python 3",
   "language": "python",
   "name": "python3"
  }
 },
 "nbformat": 4,
 "nbformat_minor": 2
}
