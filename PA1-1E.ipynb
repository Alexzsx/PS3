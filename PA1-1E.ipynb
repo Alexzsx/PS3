{
 "cells": [
  {
   "cell_type": "markdown",
   "metadata": {},
   "source": [
    "# 10th order"
   ]
  },
  {
   "cell_type": "code",
   "execution_count": 6,
   "metadata": {
    "collapsed": true
   },
   "outputs": [],
   "source": [
    "import numpy as np\n",
    "import scipy as sp\n",
    "import matplotlib.pyplot as pl\n",
    "import cvxopt\n",
    "from cvxopt import matrix\n",
    "from cvxopt import solvers\n",
    "\n",
    "sampx = np.loadtxt('polydata_data_sampx.txt') \n",
    "sampy = np.loadtxt('polydata_data_sampy.txt')\n",
    "polyx = np.loadtxt('polydata_data_polyx.txt') \n",
    "polyy = np.loadtxt('polydata_data_polyy.txt')\n",
    "\n",
    "#10th orders\n",
    "K = 10\n",
    "def PHI(K,data):\n",
    "    phi = []\n",
    "    for i in range(0, K + 1):\n",
    "        phi_inter = data ** i\n",
    "        phi.append(phi_inter)\n",
    "    phi = np.mat(phi)\n",
    "    return phi\n",
    "phisamp = PHI(K,sampx)\n",
    "\n",
    "def plots(samp_x,samp_y,ploy_x,ploy_y,predict,label='name'):\n",
    "    pl.plot(samp_x,samp_y,'bo',label='samples')\n",
    "    pl.plot(ploy_x,predict,label=label)\n",
    "    pl.plot(ploy_x,ploy_y,label='True function')\n",
    "    pl.title(label)\n",
    "    pl.legend() \n",
    "    pl.savefig(label+\"-10th order.jpg\")\n",
    "    pl.close()\n",
    "    return\n",
    "def plots_BR(samp_x,samp_y,ploy_x,ploy_y,predict):\n",
    "    pl.plot(samp_x,samp_y,'bo',label='samples')\n",
    "    pl.plot(ploy_x,predict[0],label='function')\n",
    "    pl.errorbar(ploy_x,ploy_y,np.sqrt(np.diag(predict[1])),label='True function')\n",
    "    pl.title('BR-10th order')\n",
    "    pl.legend()\n",
    "    pl.savefig(\"BR-10th order.jpg\")\n",
    "    pl.show()\n",
    "\n",
    "def MSE(trueoutput, learnedoutput):\n",
    "    trueoutput = trueoutput.reshape(len(trueoutput),1)\n",
    "    learnedoutput = learnedoutput.reshape(len(learnedoutput),1)\n",
    "    return np.sum(np.square(trueoutput-learnedoutput))/np.size(trueoutput)"
   ]
  },
  {
   "cell_type": "markdown",
   "metadata": {},
   "source": [
    "# Least square"
   ]
  },
  {
   "cell_type": "code",
   "execution_count": 7,
   "metadata": {
    "collapsed": true
   },
   "outputs": [
    {
     "name": "stdout",
     "output_type": "stream",
     "text": [
      "Estimated parameters:  [[ -0.0993758 ]\n",
      " [  3.79351203]\n",
      " [  6.49122012]\n",
      " [-10.74477383]\n",
      " [ -5.52167701]\n",
      " [  8.63226351]\n",
      " [  0.6537136 ]\n",
      " [ -3.04579888]\n",
      " [  0.76354946]\n",
      " [  0.31028117]\n",
      " [ -0.17513791]]\n"
     ]
    },
    {
     "data": {
      "text/plain": [
       "7.9831065939212298"
      ]
     },
     "execution_count": 7,
     "metadata": {},
     "output_type": "execute_result"
    }
   ],
   "source": [
    "#LS\n",
    "def poly_LS(phi,y):\n",
    "    return (phi * np.transpose(phi)).I * phi * np.transpose(np.mat(y))\n",
    "ls = poly_LS(phisamp,sampy)\n",
    "print('Estimated parameters: ',ls)\n",
    "predict = np.transpose(PHI(K,polyx)) * ls\n",
    "plots(sampx,sampy,polyx,polyy,predict,'LS')\n",
    "MSE(polyy,predict)"
   ]
  },
  {
   "cell_type": "markdown",
   "metadata": {},
   "source": [
    "# Regularized LS"
   ]
  },
  {
   "cell_type": "code",
   "execution_count": 8,
   "metadata": {
    "collapsed": true
   },
   "outputs": [
    {
     "name": "stdout",
     "output_type": "stream",
     "text": [
      "Estimated parameters:  [[ 0.7595437 ]\n",
      " [ 0.65918517]\n",
      " [ 1.50632753]\n",
      " [-0.85990156]\n",
      " [-0.25391005]\n",
      " [-0.32677479]\n",
      " [-0.87939041]\n",
      " [ 0.02214144]\n",
      " [ 0.72637841]\n",
      " [-0.03939257]\n",
      " [-0.13283132]]\n"
     ]
    },
    {
     "data": {
      "text/plain": [
       "6.5480961652574656"
      ]
     },
     "execution_count": 8,
     "metadata": {},
     "output_type": "execute_result"
    }
   ],
   "source": [
    "#RLS\n",
    "def poly_RLS(phi,y,Labmda):\n",
    "    return ((phi * np.transpose(phi) + Labmda * np.eye(np.shape(phi)[0])).I) * phi * np.transpose(np.mat(y))\n",
    "rls = poly_RLS(phisamp,sampy,1)\n",
    "print('Estimated parameters: ',rls)\n",
    "predict = np.transpose(PHI(K,polyx)) * rls\n",
    "plots(sampx,sampy,polyx,polyy,predict,'RLS')\n",
    "MSE(polyy,predict)"
   ]
  },
  {
   "cell_type": "markdown",
   "metadata": {},
   "source": [
    "# LASSO"
   ]
  },
  {
   "cell_type": "code",
   "execution_count": 9,
   "metadata": {
    "collapsed": true
   },
   "outputs": [
    {
     "name": "stdout",
     "output_type": "stream",
     "text": [
      "     pcost       dcost       gap    pres   dres\n",
      " 0: -1.0720e+03 -1.0201e+03  9e+01  1e+01  1e-04\n",
      " 1: -1.0330e+03 -1.0447e+03  1e+01  1e-15  1e-14\n",
      " 2: -1.0416e+03 -1.0428e+03  1e+00  6e-16  6e-15\n",
      " 3: -1.0419e+03 -1.0422e+03  2e-01  4e-16  3e-15\n",
      " 4: -1.0420e+03 -1.0421e+03  3e-02  5e-16  2e-15\n",
      " 5: -1.0421e+03 -1.0421e+03  3e-04  6e-16  1e-15\n",
      "Optimal solution found.\n",
      "Estimated parameters:  [ 6.86e-01]\n",
      "[ 5.97e-01]\n",
      "[ 1.61e+00]\n",
      "[-1.01e+00]\n",
      "[-5.32e-05]\n",
      "[-6.74e-06]\n",
      "[-1.20e+00]\n",
      "[-1.38e-01]\n",
      "[ 8.38e-01]\n",
      "[-1.65e-02]\n",
      "[-1.45e-01]\n",
      "\n"
     ]
    },
    {
     "data": {
      "text/plain": [
       "6.1427147417704768"
      ]
     },
     "execution_count": 9,
     "metadata": {},
     "output_type": "execute_result"
    }
   ],
   "source": [
    "#LASSO\n",
    "def poly_LASSO(phi,y,Lambda):\n",
    "    phiphiT = phi * np.transpose(phi)\n",
    "    H = np.vstack(((np.hstack((phiphiT,-1 * phiphiT))),\n",
    "              (np.hstack((-1 * phiphiT, phiphiT)))))    \n",
    "    phiy = np.vstack((phi * np.transpose(np.mat(y)),-1 * phi * np.transpose(np.mat(y))))\n",
    "    f = Lambda * np.ones(phiy.shape) - phiy\n",
    "    G = np.eye(len(f))*-1\n",
    "    h = np.zeros(len(f))\n",
    "    sol = solvers.qp(matrix(H),matrix(f),matrix(G),matrix(h))\n",
    "    x = sol['x']\n",
    "    theta = x[:int(len(x)/2)]- x[int(len(x)/2):]\n",
    "    return theta\n",
    "lasso = poly_LASSO(phisamp,sampy,1)\n",
    "print('Estimated parameters: ',lasso)\n",
    "predict = np.dot(np.transpose(PHI(K,polyx)),lasso)\n",
    "plots(sampx,sampy,polyx,polyy,predict,'LASSO')\n",
    "MSE(polyy,predict)"
   ]
  },
  {
   "cell_type": "markdown",
   "metadata": {},
   "source": [
    "# RR"
   ]
  },
  {
   "cell_type": "code",
   "execution_count": 10,
   "metadata": {
    "collapsed": true
   },
   "outputs": [
    {
     "name": "stdout",
     "output_type": "stream",
     "text": [
      "     pcost       dcost       gap    pres   dres   k/t\n",
      " 0:  0.0000e+00 -3.5527e-15  3e+02  8e-01  1e-13  1e+00\n",
      " 1:  3.7380e+01  3.7498e+01  5e+01  2e-01  3e-12  3e-01\n",
      " 2:  5.2374e+01  5.2407e+01  1e+01  3e-02  3e-11  8e-02\n",
      " 3:  5.6178e+01  5.6185e+01  2e+00  6e-03  4e-11  2e-02\n",
      " 4:  5.6860e+01  5.6862e+01  4e-01  1e-03  2e-11  3e-03\n",
      " 5:  5.6989e+01  5.6990e+01  9e-02  3e-04  2e-10  7e-04\n",
      " 6:  5.7021e+01  5.7021e+01  9e-03  3e-05  7e-10  7e-05\n",
      " 7:  5.7025e+01  5.7025e+01  1e-04  4e-07  2e-10  1e-06\n",
      " 8:  5.7025e+01  5.7025e+01  1e-06  4e-09  8e-10  1e-08\n",
      "Optimal solution found.\n",
      "Estimated parameters:  [[ -0.77214105]\n",
      " [  3.02520284]\n",
      " [ 13.14885208]\n",
      " [ -7.57592858]\n",
      " [-19.78002485]\n",
      " [  5.64238716]\n",
      " [ 12.19446327]\n",
      " [ -2.16419898]\n",
      " [ -3.15723851]\n",
      " [  0.245386  ]\n",
      " [  0.29052242]]\n"
     ]
    },
    {
     "data": {
      "text/plain": [
       "1.2898574920191945"
      ]
     },
     "execution_count": 10,
     "metadata": {},
     "output_type": "execute_result"
    }
   ],
   "source": [
    "#RR\n",
    "def poly_RR(phi,y):\n",
    "    A = np.vstack(((np.hstack((-1 * np.transpose(phi),-1*np.eye(np.shape(np.transpose(phi))[0])))),\n",
    "              (np.hstack((np.transpose(phi), -1*np.eye(np.shape(np.transpose(phi))[0]))))))  \n",
    "    b = np.hstack((-y,y))\n",
    "    f = np.hstack((np.zeros(np.shape(np.transpose(phi))[1]),np.ones(np.shape(np.transpose(phi))[0])))\n",
    "    sol = solvers.lp(matrix(f),matrix(A),matrix(b))\n",
    "    theta = np.array(sol['x'][:np.shape(np.transpose(phi))[1]])   \n",
    "    return theta\n",
    "rr = poly_RR(phisamp,sampy)\n",
    "print('Estimated parameters: ',rr)\n",
    "predict = np.dot(np.transpose(PHI(K,polyx)),rr)\n",
    "plots(sampx,sampy,polyx,polyy,predict,'RR')\n",
    "MSE(polyy,predict)"
   ]
  },
  {
   "cell_type": "markdown",
   "metadata": {},
   "source": [
    "# Bayesian regression"
   ]
  },
  {
   "cell_type": "code",
   "execution_count": 11,
   "metadata": {
    "collapsed": true
   },
   "outputs": [
    {
     "name": "stdout",
     "output_type": "stream",
     "text": [
      "Estimated parameters:  [[ 28.96310584]\n",
      " [ 29.67488157]\n",
      " [ 29.13261717]\n",
      " [ 27.73309625]\n",
      " [ 25.78787342]\n",
      " [ 23.53721699]\n",
      " [ 21.16228043]\n",
      " [ 18.79567463]\n",
      " [ 16.53060059]\n",
      " [ 14.42869067]\n",
      " [ 12.52669569]\n",
      " [ 10.84214445]\n",
      " [  9.37809247]\n",
      " [  8.1270672 ]\n",
      " [  7.07430795]\n",
      " [  6.2003905 ]\n",
      " [  5.48331806]\n",
      " [  4.90015297]\n",
      " [  4.42825618]\n",
      " [  4.04619495]\n",
      " [  3.73437311]\n",
      " [  3.47543201]\n",
      " [  3.25446511]\n",
      " [  3.05908401]\n",
      " [  2.87936886]\n",
      " [  2.7077319 ]\n",
      " [  2.53871874]\n",
      " [  2.36876838]\n",
      " [  2.19594948]\n",
      " [  2.01968749]\n",
      " [  1.84049422]\n",
      " [  1.65970928]\n",
      " [  1.4792602 ]\n",
      " [  1.30144642]\n",
      " [  1.12875031]\n",
      " [  0.96367711]\n",
      " [  0.8086243 ]\n",
      " [  0.66577974]\n",
      " [  0.53704725]\n",
      " [  0.4239974 ]\n",
      " [  0.32784079]\n",
      " [  0.24942089]\n",
      " [  0.18922288]\n",
      " [  0.14739535]\n",
      " [  0.12378115]\n",
      " [  0.11795439]\n",
      " [  0.12926021]\n",
      " [  0.15685474]\n",
      " [  0.19974267]\n",
      " [  0.25681043]\n",
      " [  0.3268534 ]\n",
      " [  0.40859598]\n",
      " [  0.50070413]\n",
      " [  0.60178992]\n",
      " [  0.7104089 ]\n",
      " [  0.82505089]\n",
      " [  0.94412567]\n",
      " [  1.06594523]\n",
      " [  1.18870474]\n",
      " [  1.31046455]\n",
      " [  1.42913582]\n",
      " [  1.54247242]\n",
      " [  1.64807172]\n",
      " [  1.74338689]\n",
      " [  1.82575289]\n",
      " [  1.89242805]\n",
      " [  1.94065261]\n",
      " [  1.96772467]\n",
      " [  1.97109332]\n",
      " [  1.94846753]\n",
      " [  1.89793789]\n",
      " [  1.81810721]\n",
      " [  1.70822356]\n",
      " [  1.56830805]\n",
      " [  1.39926677]\n",
      " [  1.20297422]\n",
      " [  0.98231239]\n",
      " [  0.74114685]\n",
      " [  0.48421756]\n",
      " [  0.2169185 ]\n",
      " [ -0.05506394]\n",
      " [ -0.32628816]\n",
      " [ -0.59230942]\n",
      " [ -0.85069102]\n",
      " [ -1.10232463]\n",
      " [ -1.35311528]\n",
      " [ -1.61609338]\n",
      " [ -1.91402243]\n",
      " [ -2.28257859]\n",
      " [ -2.77418559]\n",
      " [ -3.46259686]\n",
      " [ -4.44832504]\n",
      " [ -5.86502819]\n",
      " [ -7.8869716 ]\n",
      " [-10.73769388]\n",
      " [-14.7000169 ]\n",
      " [-20.12754994]\n",
      " [-27.45785023]\n",
      " [-37.22741412]\n",
      " [-50.08868592]]\n"
     ]
    },
    {
     "data": {
      "image/png": "[encoded data removed]",
      "text/plain": [
       "<matplotlib.figure.Figure at 0x15b87ea5f60>"
      ]
     },
     "metadata": {},
     "output_type": "display_data"
    },
    {
     "data": {
      "text/plain": [
       "17.825211144177267"
      ]
     },
     "execution_count": 11,
     "metadata": {},
     "output_type": "execute_result"
    }
   ],
   "source": [
    "#Bayesian regression\n",
    "def posterior(y,phi,alpha,sigma):\n",
    "    thelta_cov = (1/alpha * np.eye(np.shape(phi)[0]) + 1/(sigma ** 2) * phi * np.transpose(phi)).I\n",
    "    thelta_mean = 1/(sigma ** 2) * thelta_cov * phi * np.transpose(np.mat(y))\n",
    "    return thelta_mean,thelta_cov\n",
    "def poly_BR(x,thelta_mean,thelta_cov,K):\n",
    "    thelta_mean_star = np.transpose(PHI(K,x)) * thelta_mean\n",
    "    thelta_cov_star = np.transpose(PHI(K,x)) * thelta_cov * thelta_cov * PHI(K,x)\n",
    "    return thelta_mean_star,thelta_cov_star\n",
    "post = posterior(sampy, phisamp, 0.1, 0.1)\n",
    "br = poly_BR(polyx,post[0],post[1],K)\n",
    "print('Estimated parameters: ',br[0])\n",
    "plots_BR(sampx,sampy,polyx,polyy,br)\n",
    "MSE(polyy,br[0])"
   ]
  },
  {
   "cell_type": "markdown",
   "metadata": {},
   "source": [
    "# Experiment with hyperparameters"
   ]
  },
  {
   "cell_type": "code",
   "execution_count": 12,
   "metadata": {},
   "outputs": [
    {
     "data": {
      "text/plain": [
       "5.0"
      ]
     },
     "execution_count": 12,
     "metadata": {},
     "output_type": "execute_result"
    }
   ],
   "source": [
    "\n",
    "Lambda = np.linspace(0.1,5,15)\n",
    "mse_rls = []\n",
    "for i in range(0,len(Lambda)):\n",
    "    rls = poly_RLS(phisamp,sampy,Lambda[i])   \n",
    "    predict = np.transpose(PHI(K,polyx)) * rls    \n",
    "    mse_rls.append(MSE(polyy,predict))\n",
    "Lambda[mse_rls.index(min(mse_rls))]"
   ]
  },
  {
   "cell_type": "code",
   "execution_count": 13,
   "metadata": {
    "collapsed": true
   },
   "outputs": [
    {
     "name": "stdout",
     "output_type": "stream",
     "text": [
      "     pcost       dcost       gap    pres   dres\n",
      " 0: -1.0503e+03 -1.0399e+03  9e+01  1e+01  2e-04\n",
      " 1: -1.0488e+03 -1.0591e+03  1e+01  1e+00  2e-05\n",
      " 2: -1.0503e+03 -1.0533e+03  3e+00  2e-01  3e-06\n",
      " 3: -1.0519e+03 -1.0522e+03  2e-01  7e-03  1e-07\n",
      " 4: -1.0520e+03 -1.0521e+03  3e-02  7e-04  1e-08\n",
      " 5: -1.0521e+03 -1.0521e+03  9e-04  2e-06  3e-11\n",
      " 6: -1.0521e+03 -1.0521e+03  9e-06  2e-08  3e-13\n",
      "Optimal solution found.\n",
      "     pcost       dcost       gap    pres   dres\n",
      " 0: -1.0545e+03 -1.0280e+03  9e+01  1e+01  1e-04\n",
      " 1: -1.0375e+03 -1.0489e+03  1e+01  3e-01  3e-06\n",
      " 2: -1.0462e+03 -1.0473e+03  1e+00  3e-02  3e-07\n",
      " 3: -1.0467e+03 -1.0469e+03  2e-01  3e-03  4e-08\n",
      " 4: -1.0468e+03 -1.0468e+03  5e-03  5e-05  6e-10\n",
      " 5: -1.0468e+03 -1.0468e+03  5e-05  5e-07  6e-12\n",
      " 6: -1.0468e+03 -1.0468e+03  5e-07  5e-09  6e-14\n",
      "Optimal solution found.\n",
      "     pcost       dcost       gap    pres   dres\n",
      " 0: -1.0641e+03 -1.0214e+03  9e+01  1e+01  1e-04\n",
      " 1: -1.0332e+03 -1.0456e+03  1e+01  2e-15  7e-15\n",
      " 2: -1.0426e+03 -1.0442e+03  2e+00  1e-15  7e-15\n",
      " 3: -1.0434e+03 -1.0436e+03  3e-01  1e-15  1e-15\n",
      " 4: -1.0435e+03 -1.0435e+03  3e-02  1e-15  2e-15\n",
      " 5: -1.0435e+03 -1.0435e+03  7e-04  7e-16  1e-15\n",
      "Optimal solution found.\n",
      "     pcost       dcost       gap    pres   dres\n",
      " 0: -1.0791e+03 -1.0443e+03  5e+01  2e+01  8e-15\n",
      " 1: -1.0460e+03 -1.0430e+03  5e+00  1e+00  7e-15\n",
      " 2: -1.0423e+03 -1.0418e+03  1e+00  3e-01  2e-15\n",
      " 3: -1.0413e+03 -1.0413e+03  1e-01  3e-02  5e-16\n",
      " 4: -1.0412e+03 -1.0412e+03  1e-02  1e-03  1e-15\n",
      " 5: -1.0412e+03 -1.0412e+03  6e-04  4e-05  5e-16\n",
      " 6: -1.0412e+03 -1.0412e+03  2e-05  3e-07  2e-15\n",
      " 7: -1.0412e+03 -1.0412e+03  2e-07  3e-09  1e-15\n",
      "Optimal solution found.\n",
      "     pcost       dcost       gap    pres   dres\n",
      " 0: -1.0995e+03 -1.0443e+03  6e+01  2e+01  3e-15\n",
      " 1: -1.0478e+03 -1.0424e+03  7e+00  2e+00  7e-15\n",
      " 2: -1.0416e+03 -1.0408e+03  2e+00  4e-01  1e-15\n",
      " 3: -1.0402e+03 -1.0402e+03  2e-01  4e-02  3e-16\n",
      " 4: -1.0401e+03 -1.0401e+03  5e-02  6e-03  1e-16\n",
      " 5: -1.0401e+03 -1.0401e+03  1e-03  9e-05  2e-16\n",
      " 6: -1.0401e+03 -1.0401e+03  2e-05  9e-07  2e-16\n",
      " 7: -1.0401e+03 -1.0401e+03  2e-07  9e-09  2e-16\n",
      "Optimal solution found.\n",
      "     pcost       dcost       gap    pres   dres\n",
      " 0: -1.1253e+03 -1.0443e+03  8e+01  2e+01  7e-15\n",
      " 1: -1.0507e+03 -1.0420e+03  1e+01  2e+00  1e-14\n",
      " 2: -1.0413e+03 -1.0400e+03  2e+00  4e-01  2e-15\n",
      " 3: -1.0396e+03 -1.0394e+03  3e-01  6e-02  2e-16\n",
      " 4: -1.0393e+03 -1.0393e+03  5e-02  6e-03  2e-16\n",
      " 5: -1.0393e+03 -1.0393e+03  2e-03  3e-04  3e-16\n",
      " 6: -1.0393e+03 -1.0393e+03  3e-05  3e-06  5e-16\n",
      " 7: -1.0393e+03 -1.0393e+03  3e-07  3e-08  3e-16\n",
      "Optimal solution found.\n",
      "     pcost       dcost       gap    pres   dres\n",
      " 0: -1.1565e+03 -1.0443e+03  1e+02  2e+01  2e-14\n",
      " 1: -1.0546e+03 -1.0416e+03  1e+01  2e+00  2e-14\n",
      " 2: -1.0411e+03 -1.0394e+03  2e+00  4e-01  3e-15\n",
      " 3: -1.0389e+03 -1.0387e+03  4e-01  6e-02  5e-16\n",
      " 4: -1.0385e+03 -1.0385e+03  3e-02  4e-03  2e-16\n",
      " 5: -1.0385e+03 -1.0385e+03  4e-04  4e-05  4e-16\n",
      " 6: -1.0385e+03 -1.0385e+03  4e-06  4e-07  3e-16\n",
      " 7: -1.0385e+03 -1.0385e+03  4e-08  4e-09  5e-16\n",
      "Optimal solution found.\n",
      "     pcost       dcost       gap    pres   dres\n",
      " 0: -1.1931e+03 -1.0443e+03  1e+02  2e+01  2e-14\n",
      " 1: -1.0593e+03 -1.0414e+03  2e+01  3e+00  2e-14\n",
      " 2: -1.0410e+03 -1.0388e+03  3e+00  4e-01  2e-15\n",
      " 3: -1.0381e+03 -1.0379e+03  4e-01  5e-02  3e-16\n",
      " 4: -1.0377e+03 -1.0377e+03  3e-02  3e-03  1e-16\n",
      " 5: -1.0377e+03 -1.0377e+03  5e-04  4e-05  3e-16\n",
      " 6: -1.0377e+03 -1.0377e+03  5e-06  4e-07  2e-16\n",
      " 7: -1.0377e+03 -1.0377e+03  5e-08  4e-09  2e-16\n",
      "Optimal solution found.\n",
      "     pcost       dcost       gap    pres   dres\n",
      " 0: -1.2351e+03 -1.0443e+03  1e+02  2e+01  1e-14\n",
      " 1: -1.0648e+03 -1.0411e+03  2e+01  3e+00  7e-15\n",
      " 2: -1.0410e+03 -1.0382e+03  3e+00  4e-01  5e-15\n",
      " 3: -1.0374e+03 -1.0371e+03  5e-01  5e-02  7e-16\n",
      " 4: -1.0370e+03 -1.0369e+03  4e-02  3e-03  1e-16\n",
      " 5: -1.0369e+03 -1.0369e+03  8e-04  4e-05  2e-16\n",
      " 6: -1.0369e+03 -1.0369e+03  8e-06  4e-07  4e-16\n",
      " 7: -1.0369e+03 -1.0369e+03  8e-08  4e-09  2e-16\n",
      "Optimal solution found.\n",
      "     pcost       dcost       gap    pres   dres\n",
      " 0: -1.2824e+03 -1.0443e+03  1e+02  3e+01  1e-14\n",
      " 1: -1.0711e+03 -1.0409e+03  2e+01  3e+00  2e-14\n",
      " 2: -1.0411e+03 -1.0376e+03  3e+00  4e-01  3e-15\n",
      " 3: -1.0366e+03 -1.0363e+03  5e-01  5e-02  6e-16\n",
      " 4: -1.0362e+03 -1.0362e+03  5e-02  4e-03  3e-16\n",
      " 5: -1.0362e+03 -1.0362e+03  1e-03  5e-05  2e-16\n",
      " 6: -1.0362e+03 -1.0362e+03  1e-05  5e-07  2e-16\n",
      " 7: -1.0362e+03 -1.0362e+03  1e-07  5e-09  3e-16\n",
      "Optimal solution found.\n",
      "     pcost       dcost       gap    pres   dres\n",
      " 0: -1.3352e+03 -1.0443e+03  2e+02  3e+01  2e-14\n",
      " 1: -1.0782e+03 -1.0407e+03  2e+01  4e+00  2e-14\n",
      " 2: -1.0412e+03 -1.0371e+03  4e+00  5e-01  7e-15\n",
      " 3: -1.0359e+03 -1.0356e+03  5e-01  5e-02  5e-16\n",
      " 4: -1.0354e+03 -1.0354e+03  5e-02  4e-03  3e-16\n",
      " 5: -1.0354e+03 -1.0354e+03  1e-03  6e-05  3e-16\n",
      " 6: -1.0354e+03 -1.0354e+03  2e-05  6e-07  3e-16\n",
      " 7: -1.0354e+03 -1.0354e+03  2e-07  6e-09  3e-16\n",
      "Optimal solution found.\n",
      "     pcost       dcost       gap    pres   dres\n",
      " 0: -1.3933e+03 -1.0443e+03  2e+02  3e+01  9e-15\n",
      " 1: -1.0860e+03 -1.0405e+03  3e+01  4e+00  2e-14\n",
      " 2: -1.0416e+03 -1.0365e+03  4e+00  5e-01  7e-15\n",
      " 3: -1.0353e+03 -1.0348e+03  6e-01  6e-02  5e-16\n",
      " 4: -1.0347e+03 -1.0347e+03  6e-02  4e-03  3e-16\n",
      " 5: -1.0346e+03 -1.0346e+03  2e-03  7e-05  2e-16\n",
      " 6: -1.0346e+03 -1.0346e+03  2e-05  7e-07  2e-16\n",
      " 7: -1.0346e+03 -1.0346e+03  2e-07  7e-09  6e-16\n",
      "Optimal solution found.\n",
      "     pcost       dcost       gap    pres   dres\n",
      " 0: -1.4568e+03 -1.0443e+03  2e+02  3e+01  3e-14\n",
      " 1: -1.0945e+03 -1.0403e+03  3e+01  4e+00  3e-14\n",
      " 2: -1.0424e+03 -1.0360e+03  4e+00  5e-01  4e-15\n",
      " 3: -1.0347e+03 -1.0341e+03  7e-01  6e-02  6e-16\n",
      " 4: -1.0339e+03 -1.0339e+03  7e-02  4e-03  2e-16\n",
      " 5: -1.0339e+03 -1.0339e+03  2e-03  8e-05  4e-16\n",
      " 6: -1.0339e+03 -1.0339e+03  4e-05  9e-07  2e-16\n",
      " 7: -1.0339e+03 -1.0339e+03  4e-07  9e-09  1e-16\n",
      "Optimal solution found.\n",
      "     pcost       dcost       gap    pres   dres\n",
      " 0: -1.5257e+03 -1.0443e+03  2e+02  3e+01  3e-14\n",
      " 1: -1.1037e+03 -1.0401e+03  3e+01  4e+00  4e-14\n",
      " 2: -1.0432e+03 -1.0355e+03  5e+00  6e-01  3e-15\n",
      " 3: -1.0341e+03 -1.0334e+03  7e-01  7e-02  1e-15\n",
      " 4: -1.0332e+03 -1.0332e+03  7e-02  5e-03  2e-16\n",
      " 5: -1.0331e+03 -1.0331e+03  3e-03  9e-05  3e-16\n",
      " 6: -1.0331e+03 -1.0331e+03  7e-05  1e-06  3e-16\n",
      " 7: -1.0331e+03 -1.0331e+03  7e-07  1e-08  2e-16\n",
      "Optimal solution found.\n",
      "     pcost       dcost       gap    pres   dres\n",
      " 0: -1.6000e+03 -1.0443e+03  2e+02  3e+01  4e-14\n",
      " 1: -1.1136e+03 -1.0399e+03  3e+01  5e+00  4e-14\n",
      " 2: -1.0441e+03 -1.0350e+03  5e+00  6e-01  9e-15\n",
      " 3: -1.0335e+03 -1.0327e+03  8e-01  7e-02  9e-16\n",
      " 4: -1.0324e+03 -1.0324e+03  8e-02  5e-03  3e-16\n",
      " 5: -1.0324e+03 -1.0324e+03  3e-03  1e-04  2e-16\n",
      " 6: -1.0324e+03 -1.0324e+03  1e-04  1e-06  2e-16\n",
      " 7: -1.0324e+03 -1.0324e+03  1e-06  1e-08  2e-16\n",
      "Optimal solution found.\n"
     ]
    },
    {
     "data": {
      "text/plain": [
       "3.0432536006244981"
      ]
     },
     "execution_count": 13,
     "metadata": {},
     "output_type": "execute_result"
    }
   ],
   "source": [
    "mse_lasso = []\n",
    "for i in range(0,len(Lambda)):\n",
    "    lasso = poly_LASSO(phisamp,sampy,Lambda[i])\n",
    "    np.dot(np.transpose(PHI(K,polyx)),lasso)    \n",
    "    mse_lasso.append(MSE(polyy,predict))\n",
    "mse_lasso[mse_rls.index(min(mse_rls))]"
   ]
  },
  {
   "cell_type": "code",
   "execution_count": 14,
   "metadata": {},
   "outputs": [
    {
     "name": "stdout",
     "output_type": "stream",
     "text": [
      "[ 3.]\n",
      "[ 25.]\n"
     ]
    }
   ],
   "source": [
    "mu = np.linspace(1,10,10)\n",
    "ceta = np.linspace(1,5,5)\n",
    "mse_br = np.zeros((10,5))\n",
    "for i in range(0,len(mu)):\n",
    "    for j in range(0,len(ceta)):\n",
    "        post = posterior(sampy, phisamp, mu[i], ceta[j])\n",
    "        br = poly_BR(polyx,post[0],post[1],K)   \n",
    "        mse_br[i,j] = (MSE(polyy,br[0]))\n",
    "re = np.where(mse_br == np.min(mse_br))\n",
    "print(mu[re[0]])\n",
    "print(np.square(ceta[re[1]]))        "
   ]
  }
 ],
 "metadata": {
  "kernelspec": {
   "display_name": "Python 3",
   "language": "python",
   "name": "python3"
  },
  "language_info": {
   "codemirror_mode": {
    "name": "ipython",
    "version": 3
   },
   "file_extension": ".py",
   "mimetype": "text/x-python",
   "name": "python",
   "nbconvert_exporter": "python",
   "pygments_lexer": "ipython3",
   "version": "3.6.2"
  }
 },
 "nbformat": 4,
 "nbformat_minor": 2
}
